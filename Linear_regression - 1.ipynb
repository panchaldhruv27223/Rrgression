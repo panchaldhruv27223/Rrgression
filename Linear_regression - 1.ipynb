{
 "cells": [
  {
   "cell_type": "markdown",
   "id": "b49281a2",
   "metadata": {},
   "source": [
    "## Q1. Explain the difference between simple linear regression and multiple linear regression. Provide an example of each."
   ]
  },
  {
   "cell_type": "code",
   "execution_count": null,
   "id": "a7658f2a",
   "metadata": {},
   "outputs": [],
   "source": [
    "Simple linear regression :\n",
    "    In Simple linear regression we have only one independent variabel(feature). there is a linear relationship between \n",
    "    dependent and independent variable (X and Y). here our aim to find the best fit line.\n",
    "    Y = MX + C, where C is intercept, M is Slop. \n",
    "    \n",
    "Multiple linear regression :\n",
    "    In multiple-linear regression we have multiple independent feature or we can say we have more then one variable(feature).\n",
    "    here we find the best fit plane.\n",
    "    Y = C + M1x1 + M2X2 + m3x3 +... , where c is intercept and M1,M2,M3... are the slop of plane"
   ]
  },
  {
   "cell_type": "code",
   "execution_count": null,
   "id": "5bbbd038",
   "metadata": {},
   "outputs": [],
   "source": [
    "The main diff between simple linear regression and multiple linear regression is the number of feature, simple linear \n",
    "regression we have only one independent feature, and in multiple linear regression we have more then one independent \n",
    "feature."
   ]
  },
  {
   "cell_type": "code",
   "execution_count": null,
   "id": "e96f480d",
   "metadata": {},
   "outputs": [],
   "source": [
    "like:\n",
    "    one is weight and now from weight we want to predect height. so here we have only one independent feature so it is a problem\n",
    "    of simple linear regression.\n",
    "    \n",
    "    Now if we have feature like CGPA,GRE score, TOEFL score now from this feature we want to predict chances of admission.\n",
    "    so here our dependent feature is chance of getting admission, and independent feature are CGPA,...\n",
    "    so the point is we have more then one independent feature, so it is a problem of multiple linear regression"
   ]
  },
  {
   "cell_type": "markdown",
   "id": "e5e94723",
   "metadata": {},
   "source": [
    "## Q2. Discuss the assumptions of linear regression. How can you check whether these assumptions hold in a given dataset?"
   ]
  },
  {
   "cell_type": "code",
   "execution_count": null,
   "id": "b2a80ba2",
   "metadata": {},
   "outputs": [],
   "source": [
    "Assumptions of linear regression :\n",
    "    Linearity: The relationship between the dependent and independent variables is linear.\n",
    "        chech linearity using Residual Plots.\n",
    "        \n",
    "    Independence: The observations are independent of each other.\n",
    "        we can use scatter plot to visualize correlation effect among variables.\n",
    "    Homoscedasticity: The variance of the errors is constant across all levels of the independent variables.\n",
    "        we can plot residual vs fitted values plot. \n",
    "    Normality: The errors follow a normal distribution.\n",
    "        we can plot Normal Q-Q Plot to saw normality.\n",
    "    No multicollinearity: The independent variables are not highly correlated with each other.\n",
    "        plot scatter plot.\n",
    "    No endogeneity: There is no relationship between the errors and the independent variables."
   ]
  },
  {
   "cell_type": "markdown",
   "id": "eb5dea6d",
   "metadata": {},
   "source": [
    "## Q3. How do you interpret the slope and intercept in a linear regression model? Provide an example using a real-world scenario."
   ]
  },
  {
   "cell_type": "code",
   "execution_count": null,
   "id": "8dc55791",
   "metadata": {},
   "outputs": [],
   "source": [
    "intercept is when x = 0 the of a value of y.\n",
    "slope is nothing but the ratio of change in x(x1-x2)and change in y(y1-y2)\n",
    "\n",
    "Ex :\n",
    "    we have y as score in exam and x is a study hours, we can make eqvation as :\n",
    "        y = 64 + 3(x)\n",
    "        so if some one study for 5 hours then estimated score is \n",
    "        y = 64 + 3(5)\n",
    "        y = 64 + 15\n",
    "        y = 79\n",
    "        \n",
    "    the predicted score is 79."
   ]
  },
  {
   "cell_type": "markdown",
   "id": "37012970",
   "metadata": {},
   "source": [
    "## Q4. Explain the concept of gradient descent. How is it used in machine learning?"
   ]
  },
  {
   "cell_type": "code",
   "execution_count": null,
   "id": "0a28f170",
   "metadata": {},
   "outputs": [],
   "source": [
    "Gradient Descent is defined as one of the most commonly used iterative optimization algorithms of machine learning to train \n",
    "the machine learning and deep learning models. It helps in finding the local minimum of a function.\n",
    "\n",
    "Calculates the first-order derivative of the function to compute the gradient or slope of that function.\n",
    "Move away from the direction of the gradient, which means slope increased from the current point by alpha times,\n",
    "where Alpha is defined as Learning Rate. It is a tuning parameter in the optimization process which helps to decide \n",
    "the length of the steps."
   ]
  },
  {
   "attachments": {
    "image.png": {
     "image/png": "[encoded data removed]"
    }
   },
   "cell_type": "markdown",
   "id": "a8674689",
   "metadata": {},
   "source": [
    "![image.png](attachment:image.png)"
   ]
  },
  {
   "cell_type": "markdown",
   "id": "7e91af01",
   "metadata": {},
   "source": [
    "## Q5. Describe the multiple linear regression model. How does it differ from simple linear regression?"
   ]
  },
  {
   "cell_type": "code",
   "execution_count": null,
   "id": "9745b616",
   "metadata": {},
   "outputs": [],
   "source": [
    "Multiple Linear Regression is one of the important regression algorithms which models the linear relationship between a single\n",
    "dependent continuous variable and more than one independent variable.\n",
    "\n",
    "For MLR, the dependent or target variable(Y) must be the continuous/real, but the predictor or independent variable may be \n",
    "of continuous or categorical form.\n",
    "Each feature variable must model the linear relationship with the dependent variable.\n",
    "MLR tries to fit a regression line through a multidimensional space of data-points.\n",
    "\n",
    "Assumptions for Multiple Linear Regression:\n",
    "A linear relationship should exist between the Target and predictor variables.\n",
    "The regression residuals must be normally distributed.\n",
    "MLR assumes little or no multicollinearity (correlation between the independent variable) in data."
   ]
  },
  {
   "cell_type": "code",
   "execution_count": null,
   "id": "621570e3",
   "metadata": {},
   "outputs": [],
   "source": [
    "there is only one diff is between simple linear regression and multiple linear regression is that there is only one independent \n",
    "feature when in multiple linear regression there is more than one independent feature."
   ]
  },
  {
   "cell_type": "markdown",
   "id": "0624b54e",
   "metadata": {},
   "source": [
    "## Q6. Explain the concept of multicollinearity in multiple linear regression. How can you detect and address this issue?"
   ]
  },
  {
   "cell_type": "code",
   "execution_count": null,
   "id": "c170d1ef",
   "metadata": {},
   "outputs": [],
   "source": [
    "Multicollinearity occurs when there are two or more independent variables in a multiple regression model, which have a high\n",
    "correlation among themselves. When some features are highly correlated, we might have difficulty in distinguishing between \n",
    "their individual effects on the dependent variable. \n",
    "Variance Inflating factor (VIF) is used to test the presence of multicollinearity in a regression mode\n",
    "vif = 1 /( 1 - r2_score)"
   ]
  },
  {
   "cell_type": "code",
   "execution_count": null,
   "id": "243a4476",
   "metadata": {},
   "outputs": [],
   "source": []
  },
  {
   "cell_type": "code",
   "execution_count": null,
   "id": "1cd409f0",
   "metadata": {},
   "outputs": [],
   "source": []
  },
  {
   "cell_type": "markdown",
   "id": "5503ed32",
   "metadata": {},
   "source": [
    "## Q7. Describe the polynomial regression model. How is it different from linear regression?"
   ]
  },
  {
   "cell_type": "code",
   "execution_count": null,
   "id": "342b78f8",
   "metadata": {},
   "outputs": [],
   "source": [
    "This is a type of regression analysis that models the relationship between the independent variable to the dependent variable\n",
    "as an nth-degree polynomial.\n",
    "polynomial regression is used when there is a non-linear relationship between independent and dependent variable.\n",
    "Polynomial regression can be used to model a wide range of relationships between the independent variable and the dependent\n",
    "variable. For example, if the relationship is curvilinear, a quadratic or cubic polynomial can be used to model the\n",
    "relationship.\n",
    "\n",
    "The degree of the polynomial equation depends on the complexity of the relationship between the independent variable and the \n",
    "dependent variable. A higher degree polynomial can better fit the data. But it may also overfit the data and result in poor\n",
    "performance on new data."
   ]
  },
  {
   "cell_type": "code",
   "execution_count": null,
   "id": "77a38dff",
   "metadata": {},
   "outputs": [],
   "source": [
    "Linear regression models assume a linear relationship between the dependent variable and the independent variable(s).\n",
    "linear regression try to find best fit line.\n",
    "Polynomial regression, on the other hand, extends linear regression by adding higher-order polynomial terms to the model to\n",
    "capture non-linear relationships between variables."
   ]
  },
  {
   "cell_type": "markdown",
   "id": "ae38a4e7",
   "metadata": {},
   "source": [
    "## Q8. What are the advantages and disadvantages of polynomial regression compared to linear regression? In what situations would you prefer to use polynomial regression?"
   ]
  },
  {
   "cell_type": "code",
   "execution_count": null,
   "id": "ba23cd50",
   "metadata": {},
   "outputs": [],
   "source": [
    "advantages :\n",
    "    work on any size of dataset.\n",
    "    work well on non-linear dataset.\n",
    "    \n",
    "disadvantages :\n",
    "    we have to chose right polynomial degree to get good variance and bias tread-off."
   ]
  },
  {
   "cell_type": "code",
   "execution_count": null,
   "id": "8a73b56d",
   "metadata": {},
   "outputs": [],
   "source": [
    "when we have non linear relationship betwwen dependent and independent feature then we have to use polynomial regression."
   ]
  }
 ],
 "metadata": {
  "kernelspec": {
   "display_name": "Python 3 (ipykernel)",
   "language": "python",
   "name": "python3"
  },
  "language_info": {
   "codemirror_mode": {
    "name": "ipython",
    "version": 3
   },
   "file_extension": ".py",
   "mimetype": "text/x-python",
   "name": "python",
   "nbconvert_exporter": "python",
   "pygments_lexer": "ipython3",
   "version": "3.9.7"
  }
 },
 "nbformat": 4,
 "nbformat_minor": 5
}
